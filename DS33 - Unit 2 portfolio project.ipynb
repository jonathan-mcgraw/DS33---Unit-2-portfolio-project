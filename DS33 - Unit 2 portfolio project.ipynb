{
 "cells": [
  {
   "cell_type": "code",
   "execution_count": 1,
   "metadata": {},
   "outputs": [],
   "source": [
    "# Imports\n",
    "import pandas as pd\n",
    "import numpy as np\n",
    "\n",
    "from sklearn.linear_model import LinearRegression\n",
    "from sklearn.pipeline import make_pipeline\n",
    "from category_encoders import OrdinalEncoder\n",
    "from sklearn.impute import SimpleImputer\n",
    "from sklearn.metrics import mean_absolute_error\n",
    "from sklearn.ensemble import RandomForestRegressor\n",
    "from sklearn.model_selection import train_test_split, GridSearchCV"
   ]
  },
  {
   "cell_type": "code",
   "execution_count": 6,
   "metadata": {},
   "outputs": [
    {
     "name": "stdout",
     "output_type": "stream",
     "text": [
      "There are no null values in your data set.\n"
     ]
    }
   ],
   "source": [
    "# Wrangle function. Be sure to adjust the 'filepath' variable to match the location of your file.\n",
    "\n",
    "def wrangle(filepath):\n",
    "    df = pd.read_csv(filepath)\n",
    "    \n",
    "    # Remove the most extreme 1% prices\n",
    "    df = df[(df['price'] >= np.percentile(df['price'], 0.5)) & \n",
    "            (df['price'] <= np.percentile(df['price'], 99.5))]\n",
    "    \n",
    "    return df\n",
    "\n",
    "filepath = \"X:/A - Stuff/house_data/kc_house_data.csv\"\n",
    "df = wrangle(filepath)\n",
    "if df.isnull().values.any() == False:\n",
    "    print(\"There are no null values in your data set.\")\n",
    "else:\n",
    "    print(\"Modify the wrangle function to deal with those null values.\")"
   ]
  },
  {
   "cell_type": "code",
   "execution_count": 3,
   "metadata": {},
   "outputs": [
    {
     "name": "stdout",
     "output_type": "stream",
     "text": [
      "Baseline MAE Score: 217730.56857841637\n"
     ]
    }
   ],
   "source": [
    "# Assigning target and features, and printing baseline MAE\n",
    "X = df.drop(columns = ['price'])\n",
    "y = df['price']\n",
    "X_train, X_val, y_train, y_val = train_test_split(X, y, test_size=.2, random_state=69)\n",
    "print('Baseline MAE Score:', mean_absolute_error(y, [y.mean()]*len(y)))"
   ]
  },
  {
   "cell_type": "code",
   "execution_count": 4,
   "metadata": {},
   "outputs": [
    {
     "name": "stdout",
     "output_type": "stream",
     "text": [
      "Fitting 5 folds for each of 30 candidates, totalling 150 fits\n",
      "Linear training MAE Score: 112490.12749730404\n",
      "Linear validation MAE Score: 113414.7500382454\n"
     ]
    }
   ],
   "source": [
    "# Linear regression model using gridsearch for hyperparameter tuning\n",
    "pipeline_lin = make_pipeline(OrdinalEncoder(),SimpleImputer(),LinearRegression())\n",
    "params_lin = {'linearregression__n_jobs' : range(50,800,25)}\n",
    "model_lin = GridSearchCV(pipeline_lin, param_grid=params_lin, cv=5, n_jobs=-1, verbose=1)\n",
    "model_lin.fit(X_train, y_train);\n",
    "print('Linear training MAE Score:', mean_absolute_error(y_train, model_lin.predict(X_train)))\n",
    "print('Linear validation MAE Score:', mean_absolute_error(y_val, model_lin.predict(X_val)))"
   ]
  },
  {
   "cell_type": "code",
   "execution_count": 5,
   "metadata": {},
   "outputs": [
    {
     "name": "stdout",
     "output_type": "stream",
     "text": [
      "Fitting 2 folds for each of 200 candidates, totalling 400 fits\n",
      "Training MAE Score: 65901.99141967064\n",
      "Validation MAE Score: 34708.99305722056\n"
     ]
    }
   ],
   "source": [
    "# Random forest regression model using gridsearch for hyperparameter tuning\n",
    "pipeline_RFR = make_pipeline(OrdinalEncoder(), SimpleImputer(), RandomForestRegressor(random_state=69, ccp_alpha=0.0078))\n",
    "params_RFR = {'randomforestregressor__min_samples_leaf': range(1,5,1),\n",
    "              'randomforestregressor__max_leaf_nodes': range(1900,2000,50),\n",
    "              'randomforestregressor__max_depth': range(20,30,2),\n",
    "              'randomforestregressor__max_features': range(10,15,1)}\n",
    "model_RFR = GridSearchCV(pipeline_RFR, param_grid=params_RFR, cv=2, n_jobs=-1, verbose=1)\n",
    "model_RFR.fit(X_train, y_train);\n",
    "print('Training MAE Score:', mean_absolute_error(y_val, model_RFR.predict(X_val)))\n",
    "print('Validation MAE Score:', mean_absolute_error(y_train, model_RFR.predict(X_train)))"
   ]
  }
 ],
 "metadata": {
  "interpreter": {
   "hash": "81c5d750e5bb759cb5be15418a72b5fa1c4c5a68a4b41f479546920a3c663fe2"
  },
  "kernelspec": {
   "display_name": "Python 3.6.13 64-bit ('TF': conda)",
   "language": "python",
   "name": "python3"
  },
  "language_info": {
   "codemirror_mode": {
    "name": "ipython",
    "version": 3
   },
   "file_extension": ".py",
   "mimetype": "text/x-python",
   "name": "python",
   "nbconvert_exporter": "python",
   "pygments_lexer": "ipython3",
   "version": "3.6.13"
  },
  "orig_nbformat": 4
 },
 "nbformat": 4,
 "nbformat_minor": 2
}
